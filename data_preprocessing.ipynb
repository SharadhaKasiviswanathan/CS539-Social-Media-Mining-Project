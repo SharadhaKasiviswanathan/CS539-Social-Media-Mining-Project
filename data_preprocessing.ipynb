{
 "cells": [
  {
   "cell_type": "markdown",
   "metadata": {},
   "source": [
    "# SOCIAL MEDIA MINING - Project\n",
    "## GROUP 2 : Atharva Pargaonkar, Sulbha Malviya, Sharadha K\n",
    "### This file contains Data Preprocessing and crating different CSV files which are used in feature engineering."
   ]
  },
  {
   "cell_type": "code",
   "execution_count": 1,
   "metadata": {},
   "outputs": [],
   "source": [
    "# Importing required libraries\n",
    "import numpy as np\n",
    "import pandas as pd\n",
    "import json\n",
    "import os"
   ]
  },
  {
   "cell_type": "code",
   "execution_count": 2,
   "metadata": {},
   "outputs": [
    {
     "name": "stdout",
     "output_type": "stream",
     "text": [
      "   NewsID  UserID  Shares\n",
      "0     240       1       1\n",
      "1     124       2       1\n",
      "2     162       3       1\n",
      "3     233       4       1\n",
      "4      50       5       1\n"
     ]
    }
   ],
   "source": [
    "# Importing the News-User Data\n",
    "\n",
    "news_user_path = '../Data/PolitiFact/PolitiFactNewsUser.txt'\n",
    "news_user = pd.read_csv(news_user_path, sep='\\t', names=['NewsID', 'UserID', 'Shares'])\n",
    "print(news_user.head())"
   ]
  },
  {
   "cell_type": "code",
   "execution_count": 3,
   "metadata": {},
   "outputs": [
    {
     "name": "stdout",
     "output_type": "stream",
     "text": [
      "   follower  followee\n",
      "0       507         1\n",
      "1      1589         1\n",
      "2      5307         1\n",
      "3     11421         1\n",
      "4     13267         1\n"
     ]
    }
   ],
   "source": [
    "# Importing the User-User Data\n",
    "\n",
    "user_user_path = '../Data/PolitiFact/PolitiFactUserUser.txt'\n",
    "user_user = pd.read_csv(user_user_path, sep='\\t', names=['follower', 'followee'])\n",
    "print(user_user.head())\n"
   ]
  },
  {
   "cell_type": "code",
   "execution_count": 4,
   "metadata": {},
   "outputs": [],
   "source": [
    "# Save both dataframes to csv files\n",
    "news_user.to_csv('News_User.csv', index=False)\n",
    "user_user.to_csv('User_User.csv', index=False)"
   ]
  },
  {
   "cell_type": "code",
   "execution_count": 5,
   "metadata": {},
   "outputs": [
    {
     "name": "stdout",
     "output_type": "stream",
     "text": [
      "               Label\n",
      "0  PolitiFact_Real_1\n",
      "1  PolitiFact_Real_2\n",
      "2  PolitiFact_Real_3\n",
      "3  PolitiFact_Real_4\n",
      "4  PolitiFact_Real_5\n"
     ]
    }
   ],
   "source": [
    "# Importing the Ground Truth Data in News.txt\n",
    "# The ground truth data is in the form of just label for each news article\n",
    "ground_truth_path = '../Data/PolitiFact/News.txt'\n",
    "ground_truth = pd.read_csv(ground_truth_path, sep='\\t', names=['Label'])\n",
    "print(ground_truth.head())\n"
   ]
  },
  {
   "cell_type": "code",
   "execution_count": 6,
   "metadata": {},
   "outputs": [
    {
     "name": "stdout",
     "output_type": "stream",
     "text": [
      "               Label  NewsID\n",
      "0  PolitiFact_Real_1       1\n",
      "1  PolitiFact_Real_2       2\n",
      "2  PolitiFact_Real_3       3\n",
      "3  PolitiFact_Real_4       4\n",
      "4  PolitiFact_Real_5       5\n"
     ]
    }
   ],
   "source": [
    "# Adding NewsID to the ground truth data and saving it to a csv file\n",
    "ground_truth['NewsID'] = ground_truth.index\n",
    "\n",
    "# Indexing the NewsID from 1\n",
    "ground_truth['NewsID'] = ground_truth['NewsID'] + 1\n",
    "print(ground_truth.head())"
   ]
  },
  {
   "cell_type": "code",
   "execution_count": 7,
   "metadata": {},
   "outputs": [
    {
     "name": "stdout",
     "output_type": "stream",
     "text": [
      "                   Label  NewsID\n",
      "235  PolitiFact_Fake_116     236\n",
      "236  PolitiFact_Fake_117     237\n",
      "237  PolitiFact_Fake_118     238\n",
      "238  PolitiFact_Fake_119     239\n",
      "239  PolitiFact_Fake_120     240\n"
     ]
    }
   ],
   "source": [
    "print(ground_truth.tail())"
   ]
  },
  {
   "cell_type": "code",
   "execution_count": 8,
   "metadata": {},
   "outputs": [],
   "source": [
    "# Convert JSON files in a specified directory to a CSV file\n",
    "import json\n",
    "import os   \n",
    "import re\n",
    "\n",
    "def convert_json_to_csv(input_folder, csv_output_path):\n",
    "    collected_data = []\n",
    "    all_columns = set()\n",
    "    \n",
    "    # Process each JSON file in the folder\n",
    "    for file in os.listdir(input_folder):\n",
    "        if file.endswith('.json'):\n",
    "            file_path = os.path.join(input_folder, file)\n",
    "            with open(file_path, 'r') as json_file:\n",
    "                content = json.load(json_file)\n",
    "                file_identifier = re.sub(r'(\\d+).*', r'\\1', file)\n",
    "                content['filename'] = file_identifier\n",
    "                all_columns.update(content.keys())\n",
    "                collected_data.append(content)\n",
    "                \n",
    "    # Convert to DataFrame, ensuring consistent columns\n",
    "    csv_data = pd.DataFrame(collected_data)\n",
    "    csv_data = csv_data.reindex(columns=all_columns)\n",
    "    \n",
    "    # Ensure 'filename' is the first column\n",
    "    if 'filename' in csv_data.columns:\n",
    "        csv_data.insert(0, 'filename', csv_data.pop('filename'))\n",
    "        \n",
    "    csv_data.to_csv(csv_output_path, index=False)\n",
    "    print(f'CSV file saved to {csv_output_path}')\n"
   ]
  },
  {
   "cell_type": "code",
   "execution_count": 9,
   "metadata": {},
   "outputs": [
    {
     "name": "stdout",
     "output_type": "stream",
     "text": [
      "CSV file saved to ../Data/FakeNewsContent.csv\n",
      "CSV file saved to ../Data/RealNewsContent.csv\n"
     ]
    }
   ],
   "source": [
    "# Convert both fake and real news JSON directories to CSVs\n",
    "convert_json_to_csv('../Data/PolitiFact/FakeNewsContent/', '../Data/FakeNewsContent.csv')\n",
    "convert_json_to_csv('../Data/PolitiFact/RealNewsContent/', '../Data/RealNewsContent.csv')"
   ]
  },
  {
   "cell_type": "code",
   "execution_count": 10,
   "metadata": {},
   "outputs": [
    {
     "name": "stdout",
     "output_type": "stream",
     "text": [
      "Combined CSV saved to ../Data/Merged_JSON_News.csv\n"
     ]
    }
   ],
   "source": [
    "# Merge the CSV files into a single DataFrame\n",
    "def merge_csv_files(fake_csv, real_csv, output_merged_csv):\n",
    "    fake_df = pd.read_csv(fake_csv)\n",
    "    real_df = pd.read_csv(real_csv)\n",
    "    combined_df = pd.concat([fake_df, real_df], ignore_index=True)\n",
    "    combined_df.to_csv(output_merged_csv, index=False)\n",
    "    print(f\"Combined CSV saved to {output_merged_csv}\")\n",
    "\n",
    "merge_csv_files('../Data/FakeNewsContent.csv', '../Data/RealNewsContent.csv', '../Data/Merged_JSON_News.csv')\n"
   ]
  },
  {
   "cell_type": "code",
   "execution_count": 11,
   "metadata": {},
   "outputs": [
    {
     "name": "stdout",
     "output_type": "stream",
     "text": [
      "Final content with NewsID saved to ../Data/JSON_News.csv\n"
     ]
    }
   ],
   "source": [
    "# Add NewsID to the merged content\n",
    "def add_news_id_to_content(merged_csv_path, news_csv_path, final_csv_output):\n",
    "    content_df = pd.read_csv(merged_csv_path)\n",
    "    news_info_df = pd.read_csv(news_csv_path)\n",
    "    merged_with_ids = pd.merge(content_df, news_info_df[['filename', 'NewsID']], on='filename', how='left')\n",
    "    \n",
    "    # Ensure 'NewsID' is the first column and sort by it\n",
    "    reordered_columns = ['NewsID'] + [col for col in merged_with_ids.columns if col != 'NewsID']\n",
    "    final_df = merged_with_ids[reordered_columns].sort_values(by='NewsID')\n",
    "    \n",
    "    final_df.to_csv(final_csv_output, index=False)\n",
    "    print(f\"Final content with NewsID saved to {final_csv_output}\")\n",
    "\n",
    "# Use the function to add NewsID to merged content\n",
    "add_news_id_to_content('../Data/Merged_JSON_News.csv', '../Data/News.csv', '../Data/JSON_News.csv')"
   ]
  },
  {
   "cell_type": "code",
   "execution_count": 13,
   "metadata": {},
   "outputs": [
    {
     "data": {
      "text/html": [
       "<div>\n",
       "<style scoped>\n",
       "    .dataframe tbody tr th:only-of-type {\n",
       "        vertical-align: middle;\n",
       "    }\n",
       "\n",
       "    .dataframe tbody tr th {\n",
       "        vertical-align: top;\n",
       "    }\n",
       "\n",
       "    .dataframe thead th {\n",
       "        text-align: right;\n",
       "    }\n",
       "</style>\n",
       "<table border=\"1\" class=\"dataframe\">\n",
       "  <thead>\n",
       "    <tr style=\"text-align: right;\">\n",
       "      <th></th>\n",
       "      <th>NewsID</th>\n",
       "      <th>filename</th>\n",
       "      <th>title</th>\n",
       "      <th>authors</th>\n",
       "      <th>text</th>\n",
       "      <th>publish_date</th>\n",
       "      <th>images</th>\n",
       "      <th>source</th>\n",
       "      <th>keywords</th>\n",
       "      <th>canonical_link</th>\n",
       "      <th>summary</th>\n",
       "      <th>movies</th>\n",
       "      <th>meta_data</th>\n",
       "      <th>top_img</th>\n",
       "      <th>url</th>\n",
       "    </tr>\n",
       "  </thead>\n",
       "  <tbody>\n",
       "    <tr>\n",
       "      <th>0</th>\n",
       "      <td>1</td>\n",
       "      <td>PolitiFact_Real_1</td>\n",
       "      <td>Trump Just Insulted Millions Who Lost Everythi...</td>\n",
       "      <td>['Brett Bose', 'Grant Stern', 'Steve Bernstein...</td>\n",
       "      <td>16.8k SHARES SHARE THIS STORY\\n\\nHillary Clint...</td>\n",
       "      <td>{'$date': 1474934400000}</td>\n",
       "      <td>['http://occupydemocrats.com/wp-content/upload...</td>\n",
       "      <td>http://occupydemocrats.com</td>\n",
       "      <td>[]</td>\n",
       "      <td>http://occupydemocrats.com/2016/09/27/trump-ju...</td>\n",
       "      <td>NaN</td>\n",
       "      <td>[]</td>\n",
       "      <td>{'generator': 'Powered by Visual Composer - dr...</td>\n",
       "      <td>http://occupydemocrats.com/wp-content/uploads/...</td>\n",
       "      <td>http://occupydemocrats.com/2016/09/27/trump-ju...</td>\n",
       "    </tr>\n",
       "    <tr>\n",
       "      <th>1</th>\n",
       "      <td>2</td>\n",
       "      <td>PolitiFact_Real_2</td>\n",
       "      <td>Trump Campaign Chair Says Racism Didn't Exist ...</td>\n",
       "      <td>['Colin Taylor', 'Grant Stern', 'Brett Bose', ...</td>\n",
       "      <td>24.8k SHARES SHARE THIS STORY\\n\\nRepublican no...</td>\n",
       "      <td>{'$date': 1474502400000}</td>\n",
       "      <td>['http://occupydemocrats.com/wp-content/upload...</td>\n",
       "      <td>http://occupydemocrats.com</td>\n",
       "      <td>[]</td>\n",
       "      <td>http://occupydemocrats.com/2016/09/22/unhinged...</td>\n",
       "      <td>NaN</td>\n",
       "      <td>[]</td>\n",
       "      <td>{'generator': 'Powered by Visual Composer - dr...</td>\n",
       "      <td>http://occupydemocrats.com/wp-content/uploads/...</td>\n",
       "      <td>http://occupydemocrats.com/2016/09/22/unhinged...</td>\n",
       "    </tr>\n",
       "    <tr>\n",
       "      <th>2</th>\n",
       "      <td>3</td>\n",
       "      <td>PolitiFact_Real_3</td>\n",
       "      <td>'Locked the black bitch out': White students u...</td>\n",
       "      <td>NaN</td>\n",
       "      <td>The University of North Dakota is investigatin...</td>\n",
       "      <td>NaN</td>\n",
       "      <td>NaN</td>\n",
       "      <td>NaN</td>\n",
       "      <td>NaN</td>\n",
       "      <td>NaN</td>\n",
       "      <td>NaN</td>\n",
       "      <td>NaN</td>\n",
       "      <td>NaN</td>\n",
       "      <td>NaN</td>\n",
       "      <td>NaN</td>\n",
       "    </tr>\n",
       "    <tr>\n",
       "      <th>3</th>\n",
       "      <td>4</td>\n",
       "      <td>PolitiFact_Real_4</td>\n",
       "      <td>Massive Protests Erupt In North Carolina After...</td>\n",
       "      <td>['Colin Taylor', 'Grant Stern', 'Brett Bose', ...</td>\n",
       "      <td>12k SHARES SHARE THIS STORY\\n\\nMassive protest...</td>\n",
       "      <td>{'$date': 1474416000000}</td>\n",
       "      <td>['http://occupydemocrats.com/wp-content/upload...</td>\n",
       "      <td>http://occupydemocrats.com</td>\n",
       "      <td>[]</td>\n",
       "      <td>http://occupydemocrats.com/2016/09/21/massive-...</td>\n",
       "      <td>NaN</td>\n",
       "      <td>[]</td>\n",
       "      <td>{'generator': 'Powered by Visual Composer - dr...</td>\n",
       "      <td>http://occupydemocrats.com/wp-content/uploads/...</td>\n",
       "      <td>http://occupydemocrats.com/2016/09/21/massive-...</td>\n",
       "    </tr>\n",
       "    <tr>\n",
       "      <th>4</th>\n",
       "      <td>5</td>\n",
       "      <td>PolitiFact_Real_5</td>\n",
       "      <td>Howard Dean ROASTS Trump Over Debate Sniffles:...</td>\n",
       "      <td>['Ryan Denson']</td>\n",
       "      <td>In the first half of the debate, Donald Trump ...</td>\n",
       "      <td>{'$date': 1474934400000}</td>\n",
       "      <td>['http://i.imgur.com/JeqZLhj.png', 'https://d5...</td>\n",
       "      <td>http://addictinginfo.org</td>\n",
       "      <td>[]</td>\n",
       "      <td>http://addictinginfo.com/2016/09/27/howard-dea...</td>\n",
       "      <td>NaN</td>\n",
       "      <td>[]</td>\n",
       "      <td>{'publisher': 'Addicting Info | The Knowledge ...</td>\n",
       "      <td>http://addictinginfo.addictinginfoent.netdna-c...</td>\n",
       "      <td>http://addictinginfo.org/2016/09/27/howard-dea...</td>\n",
       "    </tr>\n",
       "  </tbody>\n",
       "</table>\n",
       "</div>"
      ],
      "text/plain": [
       "   NewsID           filename  \\\n",
       "0       1  PolitiFact_Real_1   \n",
       "1       2  PolitiFact_Real_2   \n",
       "2       3  PolitiFact_Real_3   \n",
       "3       4  PolitiFact_Real_4   \n",
       "4       5  PolitiFact_Real_5   \n",
       "\n",
       "                                               title  \\\n",
       "0  Trump Just Insulted Millions Who Lost Everythi...   \n",
       "1  Trump Campaign Chair Says Racism Didn't Exist ...   \n",
       "2  'Locked the black bitch out': White students u...   \n",
       "3  Massive Protests Erupt In North Carolina After...   \n",
       "4  Howard Dean ROASTS Trump Over Debate Sniffles:...   \n",
       "\n",
       "                                             authors  \\\n",
       "0  ['Brett Bose', 'Grant Stern', 'Steve Bernstein...   \n",
       "1  ['Colin Taylor', 'Grant Stern', 'Brett Bose', ...   \n",
       "2                                                NaN   \n",
       "3  ['Colin Taylor', 'Grant Stern', 'Brett Bose', ...   \n",
       "4                                    ['Ryan Denson']   \n",
       "\n",
       "                                                text  \\\n",
       "0  16.8k SHARES SHARE THIS STORY\\n\\nHillary Clint...   \n",
       "1  24.8k SHARES SHARE THIS STORY\\n\\nRepublican no...   \n",
       "2  The University of North Dakota is investigatin...   \n",
       "3  12k SHARES SHARE THIS STORY\\n\\nMassive protest...   \n",
       "4  In the first half of the debate, Donald Trump ...   \n",
       "\n",
       "               publish_date  \\\n",
       "0  {'$date': 1474934400000}   \n",
       "1  {'$date': 1474502400000}   \n",
       "2                       NaN   \n",
       "3  {'$date': 1474416000000}   \n",
       "4  {'$date': 1474934400000}   \n",
       "\n",
       "                                              images  \\\n",
       "0  ['http://occupydemocrats.com/wp-content/upload...   \n",
       "1  ['http://occupydemocrats.com/wp-content/upload...   \n",
       "2                                                NaN   \n",
       "3  ['http://occupydemocrats.com/wp-content/upload...   \n",
       "4  ['http://i.imgur.com/JeqZLhj.png', 'https://d5...   \n",
       "\n",
       "                       source keywords  \\\n",
       "0  http://occupydemocrats.com       []   \n",
       "1  http://occupydemocrats.com       []   \n",
       "2                         NaN      NaN   \n",
       "3  http://occupydemocrats.com       []   \n",
       "4    http://addictinginfo.org       []   \n",
       "\n",
       "                                      canonical_link  summary movies  \\\n",
       "0  http://occupydemocrats.com/2016/09/27/trump-ju...      NaN     []   \n",
       "1  http://occupydemocrats.com/2016/09/22/unhinged...      NaN     []   \n",
       "2                                                NaN      NaN    NaN   \n",
       "3  http://occupydemocrats.com/2016/09/21/massive-...      NaN     []   \n",
       "4  http://addictinginfo.com/2016/09/27/howard-dea...      NaN     []   \n",
       "\n",
       "                                           meta_data  \\\n",
       "0  {'generator': 'Powered by Visual Composer - dr...   \n",
       "1  {'generator': 'Powered by Visual Composer - dr...   \n",
       "2                                                NaN   \n",
       "3  {'generator': 'Powered by Visual Composer - dr...   \n",
       "4  {'publisher': 'Addicting Info | The Knowledge ...   \n",
       "\n",
       "                                             top_img  \\\n",
       "0  http://occupydemocrats.com/wp-content/uploads/...   \n",
       "1  http://occupydemocrats.com/wp-content/uploads/...   \n",
       "2                                                NaN   \n",
       "3  http://occupydemocrats.com/wp-content/uploads/...   \n",
       "4  http://addictinginfo.addictinginfoent.netdna-c...   \n",
       "\n",
       "                                                 url  \n",
       "0  http://occupydemocrats.com/2016/09/27/trump-ju...  \n",
       "1  http://occupydemocrats.com/2016/09/22/unhinged...  \n",
       "2                                                NaN  \n",
       "3  http://occupydemocrats.com/2016/09/21/massive-...  \n",
       "4  http://addictinginfo.org/2016/09/27/howard-dea...  "
      ]
     },
     "execution_count": 13,
     "metadata": {},
     "output_type": "execute_result"
    }
   ],
   "source": [
    "# Display the first few rows of the final content\n",
    "JSON_News = pd.read_csv('../Data/JSON_News.csv')\n",
    "\n",
    "JSON_News.head()"
   ]
  }
 ],
 "metadata": {
  "kernelspec": {
   "display_name": "Python 3",
   "language": "python",
   "name": "python3"
  },
  "language_info": {
   "codemirror_mode": {
    "name": "ipython",
    "version": 3
   },
   "file_extension": ".py",
   "mimetype": "text/x-python",
   "name": "python",
   "nbconvert_exporter": "python",
   "pygments_lexer": "ipython3",
   "version": "3.11.4"
  }
 },
 "nbformat": 4,
 "nbformat_minor": 2
}
